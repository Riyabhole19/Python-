{
 "cells": [
  {
   "cell_type": "code",
   "execution_count": 1,
   "id": "02a6b5fb-6ebb-4a2d-94b4-4855b6ff83ad",
   "metadata": {},
   "outputs": [],
   "source": [
    "menu={\n",
    "    'Pizza':40,\n",
    "    'Pasta':50,\n",
    "    'Burger':80,\n",
    "    'Salad':90,\n",
    "    'Coffee':60,\n",
    "    'Tea':20\n",
    "}"
   ]
  },
  {
   "cell_type": "code",
   "execution_count": 2,
   "id": "a1958fdd-825e-463a-b11c-04a47db2e72a",
   "metadata": {},
   "outputs": [
    {
     "name": "stdout",
     "output_type": "stream",
     "text": [
      "Welcone to Restaurant\n",
      "Menu:\n",
      "Pizza: ₹40\n",
      "Pasta: ₹50\n",
      "Burger: ₹80\n",
      "Salad: ₹90\n",
      "Coffee: ₹60\n",
      "Tea: ₹20\n"
     ]
    }
   ],
   "source": [
    "print(\"Welcone to Restaurant\")\n",
    "print(\"Menu:\")\n",
    "for item, price in menu.items():\n",
    "    print(f\"{item}: ₹{price}\")\n"
   ]
  },
  {
   "cell_type": "code",
   "execution_count": 3,
   "id": "a5111b2d-9f60-4b77-a2e1-c43a797c0310",
   "metadata": {},
   "outputs": [
    {
     "name": "stdin",
     "output_type": "stream",
     "text": [
      "Enter the name of the item Pizza\n"
     ]
    },
    {
     "name": "stdout",
     "output_type": "stream",
     "text": [
      "your item Pizza hass been added to your order\n"
     ]
    },
    {
     "name": "stdin",
     "output_type": "stream",
     "text": [
      "Do you want Another Item then say Yes/NO :- No\n"
     ]
    }
   ],
   "source": [
    "Order_Total=0\n",
    "Item1=input(\"Enter the name of the item\")\n",
    "if Item1 in menu:\n",
    "    Order_Total+= menu[Item1]\n",
    "    print(f\"your item {Item1} hass been added to your order\")\n",
    "else:\n",
    "    print(f\"Orderes item is {Item1} is not available yet\")\n",
    "\n",
    "another_order=input(\"Do you want Another Item then say Yes/NO :-\")\n",
    "if another_order ==\"Yes\":\n",
    "    item2=input(\"Enter the Second Item Name: -\")\n",
    "    if item2 in menu:\n",
    "        Order_Total+=menu[item2]\n",
    "        print(f\"Item {item2} has been added to your item\")\n",
    "    else:\n",
    "        print(f\"Oredered item {item2} is not available \")\n",
    "\n",
    "    print(f\"The Total amount of items to pay is {Order_Total}\")"
   ]
  }
 ],
 "metadata": {
  "kernelspec": {
   "display_name": "Python 3 (ipykernel)",
   "language": "python",
   "name": "python3"
  },
  "language_info": {
   "codemirror_mode": {
    "name": "ipython",
    "version": 3
   },
   "file_extension": ".py",
   "mimetype": "text/x-python",
   "name": "python",
   "nbconvert_exporter": "python",
   "pygments_lexer": "ipython3",
   "version": "3.13.0"
  }
 },
 "nbformat": 4,
 "nbformat_minor": 5
}
